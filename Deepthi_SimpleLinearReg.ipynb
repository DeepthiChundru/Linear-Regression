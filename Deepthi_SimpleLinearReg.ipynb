{
 "cells": [
  {
   "cell_type": "code",
   "execution_count": 1,
   "metadata": {},
   "outputs": [],
   "source": [
    "import pandas as pd\n",
    "import numpy as np\n",
    "import matplotlib.pyplot as plt\n",
    "%matplotlib inline"
   ]
  },
  {
   "cell_type": "code",
   "execution_count": 2,
   "metadata": {},
   "outputs": [
    {
     "name": "stdout",
     "output_type": "stream",
     "text": [
      "<class 'pandas.core.frame.DataFrame'>\n",
      "RangeIndex: 31 entries, 0 to 30\n",
      "Data columns (total 2 columns):\n",
      "YearsExperience    31 non-null float64\n",
      "Salary             31 non-null float64\n",
      "dtypes: float64(2)\n",
      "memory usage: 576.0 bytes\n"
     ]
    }
   ],
   "source": [
    "data = pd.read_csv('Salary_Data.csv')\n",
    "data.info() # from the info we can infer that all the columns are numeric and no missing values."
   ]
  },
  {
   "cell_type": "code",
   "execution_count": 3,
   "metadata": {},
   "outputs": [
    {
     "data": {
      "text/html": [
       "<div>\n",
       "<style scoped>\n",
       "    .dataframe tbody tr th:only-of-type {\n",
       "        vertical-align: middle;\n",
       "    }\n",
       "\n",
       "    .dataframe tbody tr th {\n",
       "        vertical-align: top;\n",
       "    }\n",
       "\n",
       "    .dataframe thead th {\n",
       "        text-align: right;\n",
       "    }\n",
       "</style>\n",
       "<table border=\"1\" class=\"dataframe\">\n",
       "  <thead>\n",
       "    <tr style=\"text-align: right;\">\n",
       "      <th></th>\n",
       "      <th>YearsExperience</th>\n",
       "      <th>Salary</th>\n",
       "    </tr>\n",
       "  </thead>\n",
       "  <tbody>\n",
       "    <tr>\n",
       "      <th>count</th>\n",
       "      <td>31.000000</td>\n",
       "      <td>3.100000e+01</td>\n",
       "    </tr>\n",
       "    <tr>\n",
       "      <th>mean</th>\n",
       "      <td>8.367742</td>\n",
       "      <td>3.584299e+09</td>\n",
       "    </tr>\n",
       "    <tr>\n",
       "      <th>std</th>\n",
       "      <td>17.233599</td>\n",
       "      <td>1.995611e+10</td>\n",
       "    </tr>\n",
       "    <tr>\n",
       "      <th>min</th>\n",
       "      <td>1.100000</td>\n",
       "      <td>3.773100e+04</td>\n",
       "    </tr>\n",
       "    <tr>\n",
       "      <th>25%</th>\n",
       "      <td>3.200000</td>\n",
       "      <td>5.679950e+04</td>\n",
       "    </tr>\n",
       "    <tr>\n",
       "      <th>50%</th>\n",
       "      <td>4.900000</td>\n",
       "      <td>6.602900e+04</td>\n",
       "    </tr>\n",
       "    <tr>\n",
       "      <th>75%</th>\n",
       "      <td>8.050000</td>\n",
       "      <td>1.034420e+05</td>\n",
       "    </tr>\n",
       "    <tr>\n",
       "      <th>max</th>\n",
       "      <td>100.000000</td>\n",
       "      <td>1.111110e+11</td>\n",
       "    </tr>\n",
       "  </tbody>\n",
       "</table>\n",
       "</div>"
      ],
      "text/plain": [
       "       YearsExperience        Salary\n",
       "count        31.000000  3.100000e+01\n",
       "mean          8.367742  3.584299e+09\n",
       "std          17.233599  1.995611e+10\n",
       "min           1.100000  3.773100e+04\n",
       "25%           3.200000  5.679950e+04\n",
       "50%           4.900000  6.602900e+04\n",
       "75%           8.050000  1.034420e+05\n",
       "max         100.000000  1.111110e+11"
      ]
     },
     "execution_count": 3,
     "metadata": {},
     "output_type": "execute_result"
    }
   ],
   "source": [
    "# find the statistic information\n",
    "data.describe() # when you see the YearsExperience we can find that some outlier is present in it "
   ]
  },
  {
   "cell_type": "code",
   "execution_count": 4,
   "metadata": {},
   "outputs": [
    {
     "data": {
      "image/png": "[encoded data removed]",
      "text/plain": [
       "<Figure size 432x288 with 1 Axes>"
      ]
     },
     "metadata": {
      "needs_background": "light"
     },
     "output_type": "display_data"
    },
    {
     "data": {
      "image/png": "[encoded data removed]",
      "text/plain": [
       "<Figure size 432x288 with 1 Axes>"
      ]
     },
     "metadata": {
      "needs_background": "light"
     },
     "output_type": "display_data"
    }
   ],
   "source": [
    "# outliers can be found either by IQR calculation or the Box plot\n",
    "# how to create a BOX plot\n",
    "for columns in data:\n",
    "    plt.figure()\n",
    "    data.boxplot([columns])"
   ]
  },
  {
   "cell_type": "code",
   "execution_count": 12,
   "metadata": {},
   "outputs": [],
   "source": [
    "# calculate the IQR to detect the outliers and eliminate it\n",
    "def outlier_detection(col):\n",
    "    sorted(col) # sort the values in the column.\n",
    "    # calculate the Q1 and Q3 (ie., 25% and 75%)\n",
    "    Q1,Q3=np.percentile(col,[25,75])\n",
    "    IQR = Q3-Q1\n",
    "    Lower_range = Q1 -(1.5*IQR)\n",
    "    upper_range = Q3 +(1.5*IQR)\n",
    "    return Lower_range,upper_range"
   ]
  },
  {
   "cell_type": "code",
   "execution_count": 13,
   "metadata": {},
   "outputs": [
    {
     "name": "stdout",
     "output_type": "stream",
     "text": [
      "lower range=-4.075,upper_range=15.325000000000001\n"
     ]
    }
   ],
   "source": [
    "lr,ur=outlier_detection(data.YearsExperience)\n",
    "print(\"lower range={},upper_range={}\".format(lr,ur))"
   ]
  },
  {
   "cell_type": "code",
   "execution_count": 25,
   "metadata": {},
   "outputs": [],
   "source": [
    "#Getting the index of the outlier.\n",
    "outlierIndex=data.index[(data.YearsExperience < lr) | (data.YearsExperience > ur)]"
   ]
  },
  {
   "cell_type": "code",
   "execution_count": 26,
   "metadata": {},
   "outputs": [
    {
     "name": "stdout",
     "output_type": "stream",
     "text": [
      "<class 'pandas.core.frame.DataFrame'>\n",
      "Int64Index: 30 entries, 0 to 29\n",
      "Data columns (total 2 columns):\n",
      "YearsExperience    30 non-null float64\n",
      "Salary             30 non-null float64\n",
      "dtypes: float64(2)\n",
      "memory usage: 720.0 bytes\n"
     ]
    }
   ],
   "source": [
    "# Drop the outlier from the data using the index\n",
    "data.drop(outlierIndex,inplace=True)\n",
    "data.info()"
   ]
  },
  {
   "cell_type": "markdown",
   "metadata": {},
   "source": [
    "# Creating the Linear Regression Model.\n",
    "Since we have single variable and single label we are creating the Simple Regression Model\n",
    "Steps to Create the Linear regression Model:\n",
    "    1. Seperate the Data as features and Labels in 2D-form\n",
    "    2. Split the data into Test and Train\n",
    "    3. build the model using Train.\n",
    "    4. Find the Score of the model using Train and Train.\n",
    "    5. Check whether the model is generalized\n",
    "    6. Deploy the model using pickel."
   ]
  },
  {
   "cell_type": "code",
   "execution_count": 30,
   "metadata": {},
   "outputs": [
    {
     "name": "stdout",
     "output_type": "stream",
     "text": [
      "(30, 1)\n",
      "(30, 1)\n"
     ]
    }
   ],
   "source": [
    "# Sperating the data as features and labels as numpy array in 2d form which is required for sklearn during model building\n",
    "features=data.iloc[:,[0]].values\n",
    "label=data.iloc[:,[1]].values\n",
    "print(features.shape)\n",
    "print(label.shape)"
   ]
  },
  {
   "cell_type": "code",
   "execution_count": 47,
   "metadata": {},
   "outputs": [],
   "source": [
    "from sklearn.model_selection import train_test_split\n",
    "# Split the data into Test and Train\n",
    "x_train,x_test,y_train,y_test=train_test_split(features,\n",
    "                                              label,\n",
    "                                               test_size=0.20, \n",
    "                                               random_state=1)"
   ]
  },
  {
   "cell_type": "code",
   "execution_count": 48,
   "metadata": {},
   "outputs": [
    {
     "data": {
      "text/plain": [
       "LinearRegression(copy_X=True, fit_intercept=True, n_jobs=None,\n",
       "         normalize=False)"
      ]
     },
     "execution_count": 48,
     "metadata": {},
     "output_type": "execute_result"
    }
   ],
   "source": [
    "# Building the Simple Linear Regression Model\n",
    "from sklearn.linear_model import LinearRegression\n",
    "model=LinearRegression()\n",
    "model.fit(x_train,y_train)# Training my model\n",
    "                          # Creating intercept and coeff"
   ]
  },
  {
   "cell_type": "code",
   "execution_count": 49,
   "metadata": {},
   "outputs": [
    {
     "name": "stdout",
     "output_type": "stream",
     "text": [
      "training Score 0.9677558036981184\n",
      "testing Score 0.7616681465472094\n"
     ]
    }
   ],
   "source": [
    "# Evaluating the Linear regression Model - Find the score of Test and Train data.\n",
    "train_score = model.score(x_train,y_train)\n",
    "test_score = model.score(x_test,y_test)\n",
    "print(\"training Score {}\".format(train_score))\n",
    "print(\"testing Score {}\".format(test_score))"
   ]
  },
  {
   "cell_type": "markdown",
   "metadata": {},
   "source": [
    "#If your training score is less than testing score, you can conclude that the model is a generalized model !!!!"
   ]
  },
  {
   "cell_type": "code",
   "execution_count": 50,
   "metadata": {},
   "outputs": [
    {
     "name": "stdout",
     "output_type": "stream",
     "text": [
      "Remodel it!\n"
     ]
    }
   ],
   "source": [
    "if train_score < test_score:\n",
    "    print('model is generalized')\n",
    "else:\n",
    "    print('Remodel it!')"
   ]
  },
  {
   "cell_type": "markdown",
   "metadata": {},
   "source": [
    "# How to remodel?\n",
    "we can try to remodel using the random_state set to different values and check the best fit model"
   ]
  },
  {
   "cell_type": "code",
   "execution_count": 51,
   "metadata": {},
   "outputs": [
    {
     "name": "stdout",
     "output_type": "stream",
     "text": [
      "training Score 0.9545249190394052, testing Score 0.9695039421049821 random_state=3\n",
      "training Score 0.9528197369259258, testing Score 0.9631182154839475 random_state=8\n",
      "training Score 0.9494673013344644, testing Score 0.9816423482070255 random_state=10\n",
      "training Score 0.9527636176933665, testing Score 0.9606215790278543 random_state=14\n",
      "training Score 0.9460054870434312, testing Score 0.9835849730044817 random_state=26\n",
      "training Score 0.9527636606684406, testing Score 0.9636425773684423 random_state=27\n",
      "training Score 0.9400496694274888, testing Score 0.9944092048209744 random_state=30\n",
      "training Score 0.9486350116716654, testing Score 0.9778242092591889 random_state=37\n",
      "training Score 0.9473317052697812, testing Score 0.9724794487377619 random_state=38\n",
      "training Score 0.9492886917497556, testing Score 0.9928344802911048 random_state=39\n",
      "training Score 0.9491742100347064, testing Score 0.9802519469633169 random_state=41\n",
      "training Score 0.948821675263085, testing Score 0.9789129767378081 random_state=46\n",
      "training Score 0.9486450781125915, testing Score 0.98399193890564 random_state=47\n",
      "training Score 0.9500780390200971, testing Score 0.980277279178695 random_state=48\n",
      "training Score 0.954137522517541, testing Score 0.9608624689052039 random_state=51\n",
      "training Score 0.952756273050018, testing Score 0.9743646706957547 random_state=52\n",
      "training Score 0.9504872715098402, testing Score 0.9804067424885895 random_state=56\n",
      "training Score 0.9473987125707489, testing Score 0.9719509793938971 random_state=62\n",
      "training Score 0.9505483928196958, testing Score 0.9582008985104702 random_state=63\n",
      "training Score 0.9562672856609079, testing Score 0.9588832495320915 random_state=67\n",
      "training Score 0.937932068950384, testing Score 0.9791787060652751 random_state=68\n",
      "training Score 0.9504137960985714, testing Score 0.9694792167947474 random_state=71\n",
      "training Score 0.9562030951258303, testing Score 0.9562771755752736 random_state=72\n",
      "training Score 0.9453900863447221, testing Score 0.981214310330871 random_state=73\n",
      "training Score 0.9553251075019685, testing Score 0.9618591691900452 random_state=74\n",
      "training Score 0.9533893439783429, testing Score 0.9652242905568412 random_state=75\n",
      "training Score 0.9504675637559191, testing Score 0.9782012346646264 random_state=77\n",
      "training Score 0.9464278082328255, testing Score 0.9861836585536035 random_state=78\n",
      "training Score 0.9490941521623282, testing Score 0.9806625667591384 random_state=79\n",
      "training Score 0.9500955424260096, testing Score 0.9760426364249574 random_state=81\n",
      "training Score 0.9466573106897649, testing Score 0.9771739926822539 random_state=85\n",
      "training Score 0.9473439749203112, testing Score 0.9743110017459555 random_state=86\n",
      "training Score 0.9423648233451756, testing Score 0.9770761663991681 random_state=88\n",
      "training Score 0.946728531416641, testing Score 0.9744265816506664 random_state=89\n",
      "training Score 0.9529778812782739, testing Score 0.9676701872390631 random_state=90\n",
      "training Score 0.9469346629378338, testing Score 0.9793995823406391 random_state=92\n",
      "training Score 0.9534166513146051, testing Score 0.9682219576297961 random_state=93\n",
      "training Score 0.9514417860805683, testing Score 0.9676991009836634 random_state=94\n",
      "training Score 0.9514027940440705, testing Score 0.9720725422361338 random_state=100\n"
     ]
    }
   ],
   "source": [
    "#it is not maditory to import since we already imported but to keep all lines together i am import the required libraries again\n",
    "from sklearn.model_selection import train_test_split\n",
    "from sklearn.linear_model import LinearRegression\n",
    "\n",
    "for i in range(1,101):\n",
    "    x_train,x_test,y_train,y_test=train_test_split(features,\n",
    "                                              label,\n",
    "                                               test_size=0.20, \n",
    "                                               random_state=i)\n",
    "    model=LinearRegression()\n",
    "    model.fit(x_train,y_train)\n",
    "    train_score = model.score(x_train,y_train)\n",
    "    test_score = model.score(x_test,y_test)\n",
    "    if train_score < test_score:\n",
    "        print(\"training Score {}, testing Score {} random_state={}\".format(train_score,test_score,i))\n"
   ]
  },
  {
   "cell_type": "markdown",
   "metadata": {},
   "source": [
    "from the above range we have to test the best randon seed - i.e, select the random seed that has the highest testing score.\n",
    "from the above random_state=30 is the best generalized model."
   ]
  },
  {
   "cell_type": "markdown",
   "metadata": {},
   "source": [
    "Now remodel your Linera regression using this random_state."
   ]
  },
  {
   "cell_type": "code",
   "execution_count": 53,
   "metadata": {},
   "outputs": [
    {
     "data": {
      "text/plain": [
       "LinearRegression(copy_X=True, fit_intercept=True, n_jobs=None,\n",
       "         normalize=False)"
      ]
     },
     "execution_count": 53,
     "metadata": {},
     "output_type": "execute_result"
    }
   ],
   "source": [
    "from sklearn.model_selection import train_test_split\n",
    "from sklearn.linear_model import LinearRegression\n",
    "\n",
    "\n",
    "x_train,x_test,y_train,y_test=train_test_split(features,\n",
    "                                          label,\n",
    "                                           test_size=0.20, \n",
    "                                           random_state=30)\n",
    "model=LinearRegression()\n",
    "model.fit(x_train,y_train)"
   ]
  },
  {
   "cell_type": "code",
   "execution_count": 56,
   "metadata": {},
   "outputs": [
    {
     "name": "stdout",
     "output_type": "stream",
     "text": [
      "intercept=[25566.43561641] and coef=[[9481.03756369]]\n"
     ]
    }
   ],
   "source": [
    "print(\"intercept={} and coef={}\".format(model.intercept_,model.coef_))"
   ]
  },
  {
   "cell_type": "markdown",
   "metadata": {},
   "source": [
    "Mathematically we can say \n",
    "\n",
    "Salary = 25566.43561641 + 9481.03756369*YearsExperience\n",
    "\n",
    "or we can say as the unit increase in the YearsExperience shall increase the Salary by 9481.03756369"
   ]
  },
  {
   "cell_type": "code",
   "execution_count": 58,
   "metadata": {},
   "outputs": [
    {
     "name": "stdout",
     "output_type": "stream",
     "text": [
      "The equation of regression line is Salary = [25566.43561641] + [[9481.03756369]] * YearsExperience\n"
     ]
    }
   ],
   "source": [
    "#Salary = b0 + b1(yearsExper)\n",
    "print(\"The equation of regression line is Salary = {} + {} * YearsExperience\".format(model.intercept_,model.coef_))"
   ]
  },
  {
   "cell_type": "markdown",
   "metadata": {},
   "source": [
    "# Now Deploy the model using Pickle"
   ]
  },
  {
   "cell_type": "code",
   "execution_count": 60,
   "metadata": {},
   "outputs": [],
   "source": [
    "#save and load your machine learning model in Python using scikit-learn.\n",
    "import pickle\n",
    "pickle.dump(model,open('SalaryPredictor.model','wb'))"
   ]
  },
  {
   "cell_type": "code",
   "execution_count": null,
   "metadata": {},
   "outputs": [],
   "source": []
  }
 ],
 "metadata": {
  "kernelspec": {
   "display_name": "Python 3",
   "language": "python",
   "name": "python3"
  },
  "language_info": {
   "codemirror_mode": {
    "name": "ipython",
    "version": 3
   },
   "file_extension": ".py",
   "mimetype": "text/x-python",
   "name": "python",
   "nbconvert_exporter": "python",
   "pygments_lexer": "ipython3",
   "version": "3.7.3"
  }
 },
 "nbformat": 4,
 "nbformat_minor": 2
}
