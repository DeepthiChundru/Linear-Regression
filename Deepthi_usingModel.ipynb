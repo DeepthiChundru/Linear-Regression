{
 "cells": [
  {
   "cell_type": "code",
   "execution_count": 5,
   "metadata": {},
   "outputs": [],
   "source": [
    "import pickle\n",
    "import numpy as np\n",
    "loaded_model = pickle.load(open('SalaryPredictor.model','rb')) #Load the file r---read b--- bytes"
   ]
  },
  {
   "cell_type": "code",
   "execution_count": 6,
   "metadata": {},
   "outputs": [
    {
     "name": "stdout",
     "output_type": "stream",
     "text": [
      "Enter Years of Experience: 8\n",
      "The salary for 8.0 years of Experience is [[101414.73612591]]\n"
     ]
    }
   ],
   "source": [
    "yearsExperience = float(input('Enter Years of Experience: '))\n",
    "if yearsExperience >=0:\n",
    "    features = np.array([[yearsExperience]])\n",
    "    salary = model.predict(features)\n",
    "    print('The salary for {} years of Experience is {}'.format(yearsExperience,salary))\n",
    "else:\n",
    "    print('Invalid Input :(')"
   ]
  },
  {
   "cell_type": "code",
   "execution_count": null,
   "metadata": {},
   "outputs": [],
   "source": []
  }
 ],
 "metadata": {
  "kernelspec": {
   "display_name": "Python 3",
   "language": "python",
   "name": "python3"
  },
  "language_info": {
   "codemirror_mode": {
    "name": "ipython",
    "version": 3
   },
   "file_extension": ".py",
   "mimetype": "text/x-python",
   "name": "python",
   "nbconvert_exporter": "python",
   "pygments_lexer": "ipython3",
   "version": "3.7.3"
  }
 },
 "nbformat": 4,
 "nbformat_minor": 2
}
